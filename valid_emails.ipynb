{
 "cells": [
  {
   "cell_type": "markdown",
   "metadata": {},
   "source": [
    "# Valid Email\n",
    "\n",
    "Write a solution to find the users who have valid emails.\n",
    "\n",
    "A valid e-mail has a prefix name and a domain where:\n",
    "\n",
    "* The prefix name is a string that may contain letters (upper or lower case), digits, underscore '_', period '.', and/or dash '-'. The prefix name must start with a letter.\n",
    "* The domain is '@leetcode.com'.\n",
    "* Return the result table in any order.\n",
    "\n",
    "The result format is in the following example.\n",
    "\n",
    "**Example 1:**\n",
    "```\n",
    "Input: \n",
    "Users table:\n",
    "+---------+-----------+-------------------------+\n",
    "| user_id | name      | mail                    |\n",
    "+---------+-----------+-------------------------+\n",
    "| 1       | Winston   | winston@leetcode.com    |\n",
    "| 2       | Jonathan  | jonathanisgreat         |\n",
    "| 3       | Annabelle | bella-@leetcode.com     |\n",
    "| 4       | Sally     | sally.come@leetcode.com |\n",
    "| 5       | Marwan    | quarz#2020@leetcode.com |\n",
    "| 6       | David     | david69@gmail.com       |\n",
    "| 7       | Shapiro   | .shapo@leetcode.com     |\n",
    "+---------+-----------+-------------------------+\n",
    "\n",
    "Output: \n",
    "+---------+-----------+-------------------------+\n",
    "| user_id | name      | mail                    |\n",
    "+---------+-----------+-------------------------+\n",
    "| 1       | Winston   | winston@leetcode.com    |\n",
    "| 3       | Annabelle | bella-@leetcode.com     |\n",
    "| 4       | Sally     | sally.come@leetcode.com |\n",
    "+---------+-----------+-------------------------+\n",
    "```\n",
    "\n",
    "Explanation: \n",
    "The mail of user 2 does not have a domain.\n",
    "The mail of user 5 has the # sign which is not allowed.\n",
    "The mail of user 6 does not have the leetcode domain.\n",
    "The mail of user 7 starts with a period.\n",
    "\n",
    "Once you have implemented your solution, run the code block containing your `valid_emails` function. Be sure that your function [returns](https://www.geeksforgeeks.org/python-return-statement/) a dataframe, and doesn't simply print."
   ]
  },
  {
   "cell_type": "code",
   "execution_count": 10,
   "metadata": {},
   "outputs": [],
   "source": [
    "#my valid emails funtion\n",
    "def valid_emails(users):\n",
    "    \n",
    "    valid_users = []\n",
    "    \n",
    "    for index, row in users.iterrows():\n",
    "        email = row['mail']\n",
    "        #Checking if email starts with a letter and ends with @leetcode.com\n",
    "        if email.startswith(tuple(\"abcdefghijklmnopqrstuvwxyzABCDEFGHIJKLMNOPQRSTUVWXYZ\")) and email.endswith('@leetcode.com'):\n",
    "            valid_users.append(row)\n",
    "    \n",
    "    # Convert the valid_users list back into a DataFrame\n",
    "    return pd.DataFrame(valid_users)\n"
   ]
  },
  {
   "cell_type": "markdown",
   "metadata": {},
   "source": [
    "## Test Block\n",
    "\n",
    "**NOTE: Before running the code block below, please be sure that the function you implemented above runs successfully (i.e. a green check-mark appears when running your code)**\n",
    "\n",
    "Run the following block of code to test your `valid_emails` function. If all cases evaluate to true, your code is functioning correctly!"
   ]
  },
  {
   "cell_type": "code",
   "execution_count": 11,
   "metadata": {},
   "outputs": [
    {
     "name": "stdout",
     "output_type": "stream",
     "text": [
      "Output\n",
      ":         name                     mail\n",
      "1    Winston     winston@leetcode.com\n",
      "3  Annabelle      bella-@leetcode.com\n",
      "4      Sally  sally.come@leetcode.com\n",
      "5     Marwan  quarz#2020@leetcode.com\n",
      "Test case 1: False\n"
     ]
    }
   ],
   "source": [
    "\n",
    "\n"
   ]
  }
 ],
 "metadata": {
  "kernelspec": {
   "display_name": "base",
   "language": "python",
   "name": "python3"
  },
  "language_info": {
   "codemirror_mode": {
    "name": "ipython",
    "version": 3
   },
   "file_extension": ".py",
   "mimetype": "text/x-python",
   "name": "python",
   "nbconvert_exporter": "python",
   "pygments_lexer": "ipython3",
   "version": "3.9.18"
  }
 },
 "nbformat": 4,
 "nbformat_minor": 2
}
